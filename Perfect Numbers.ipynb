{
 "cells": [
  {
   "cell_type": "markdown",
   "metadata": {},
   "source": [
    "#Perfect Numbers\n",
    "\n",
    "Problem - write a program to find perfect numbers up to n. Perfect number is one where the sum of its proper divisors (factors excluding the number itself)equals to the number. For example, 6 is a perfect number because the sum of its proper divisors, 1, 2 and 3 is equal to 6."
   ]
  },
  {
   "cell_type": "code",
   "execution_count": null,
   "metadata": {},
   "outputs": [],
   "source": [
    "n = int(input('Enter a number and we will find all amicable numbers less than that: ')) \n",
    "m = 2 \n",
    "perf_nums = []\n",
    "\n",
    "while m < n: \n",
    "    factor_sum = 0 \n",
    "    i = 1 \n",
    "    while i < m: \n",
    "        if m%i == 0: \n",
    "            factor_sum = factor_sum + i \n",
    "        i = i + 1\n",
    "\n",
    "    if factor_sum == m:\n",
    "        perf_nums.append(m)\n",
    "\n",
    "    m = m+1\n",
    "print(perf_nums)"
   ]
  }
 ],
 "metadata": {
  "kernelspec": {
   "display_name": "Python 3",
   "language": "python",
   "name": "python3"
  },
  "language_info": {
   "codemirror_mode": {
    "name": "ipython",
    "version": 3
   },
   "file_extension": ".py",
   "mimetype": "text/x-python",
   "name": "python",
   "nbconvert_exporter": "python",
   "pygments_lexer": "ipython3",
   "version": "3.7.3"
  }
 },
 "nbformat": 4,
 "nbformat_minor": 2
}
